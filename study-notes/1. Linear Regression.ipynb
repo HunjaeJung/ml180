{
 "cells": [
  {
   "cell_type": "markdown",
   "metadata": {},
   "source": [
    "# Regression Analysis?\n",
    "\n",
    "각 현상들의 상관관계를 추측하는 것 ([estimating the relationships among variables](https://en.wikipedia.org/wiki/Regression_analysis))\n",
    "\n",
    "# Linear Regression\n",
    "\n",
    "이런 저런 선형적 상관 관계에 있는 사회적 현상들..\n",
    "\n",
    "- 많이 먹으면, 살이 찐다. (하루 섭취 열량, 몸무게)\n",
    "- 일을 많이 하면, 돈을 많이 번다. (하루 일하는 시간, 연봉)\n",
    "- 코드가 길어질 수록, 버그가 많아진다. (하루에 작성한 코드 길이, 발생한 버그 개수)\n",
    "\n",
    "버그가 많아지는 현상의 원인을 하나로만 바라보면, 그것이 바로 Univariate linear regression의 길\n",
    "\n",
    "# Cost function\n",
    "\n",
    "선은 선인데 어느 정도의 기울기와 절편을 갖는 선인지 찾을때 사용하는 함수. 누가 누가 데이터를 가장 잘 표현할 수 있는 선인가. \n",
    "\n",
    "# Gradient Descent Algorithm\n",
    "\n",
    "최소의 Cost function 값을 찾는 알고리즘"
   ]
  },
  {
   "cell_type": "markdown",
   "metadata": {},
   "source": [
    "# Simple Linear Regression with pure python code"
   ]
  },
  {
   "cell_type": "markdown",
   "metadata": {},
   "source": [
    "### sample data 만들기"
   ]
  },
  {
   "cell_type": "code",
   "execution_count": 1,
   "metadata": {
    "collapsed": false
   },
   "outputs": [],
   "source": [
    "import numpy as np\n",
    "from pandas import DataFrame, Series\n",
    "import matplotlib\n",
    "%matplotlib inline"
   ]
  },
  {
   "cell_type": "code",
   "execution_count": 2,
   "metadata": {
    "collapsed": true
   },
   "outputs": [],
   "source": [
    "import math\n",
    "import random"
   ]
  },
  {
   "cell_type": "code",
   "execution_count": 3,
   "metadata": {
    "collapsed": false
   },
   "outputs": [],
   "source": [
    "# how_many 만큼 start, end 범위에 있는 숫자들을 중복하여 추출합니다.\n",
    "def get_random_numbers(start, end, how_many):\n",
    "    return [random.randint(start, end) for i in range(how_many)]"
   ]
  },
  {
   "cell_type": "code",
   "execution_count": 4,
   "metadata": {
    "collapsed": false
   },
   "outputs": [],
   "source": [
    "# 일단 완전 랜덤하게 뽑아보자\n",
    "x=get_random_numbers(0,24,10)\n",
    "y=get_random_numbers(10,100,10)"
   ]
  },
  {
   "cell_type": "code",
   "execution_count": 5,
   "metadata": {
    "collapsed": true
   },
   "outputs": [],
   "source": [
    "data = {\n",
    "    'x': x,\n",
    "    'y': y\n",
    "}\n",
    "df = DataFrame(data)"
   ]
  },
  {
   "cell_type": "code",
   "execution_count": 6,
   "metadata": {
    "collapsed": false
   },
   "outputs": [
    {
     "data": {
      "text/plain": [
       "<matplotlib.axes._subplots.AxesSubplot at 0x10e33d250>"
      ]
     },
     "execution_count": 6,
     "metadata": {},
     "output_type": "execute_result"
    },
    {
     "name": "stderr",
     "output_type": "stream",
     "text": [
      "/Library/Python/2.7/site-packages/matplotlib/collections.py:590: FutureWarning: elementwise comparison failed; returning scalar instead, but in the future will perform elementwise comparison\n",
      "  if self._edgecolors == str('face'):\n"
     ]
    },
    {
     "data": {
      "image/png": "[encoded data removed]",
      "text/plain": [
       "<matplotlib.figure.Figure at 0x10c42df90>"
      ]
     },
     "metadata": {},
     "output_type": "display_data"
    }
   ],
   "source": [
    "df.plot(kind='scatter', x='x', y='y')"
   ]
  },
  {
   "cell_type": "markdown",
   "metadata": {},
   "source": [
    "### Linear regression model"
   ]
  },
  {
   "cell_type": "code",
   "execution_count": 7,
   "metadata": {
    "collapsed": false
   },
   "outputs": [],
   "source": [
    "# line을 찾는 것이 우리의 목적. input은 데이터, output은 line\n",
    "def simple_fit(X, Y):\n",
    "    print X, Y\n",
    "    # initial values\n",
    "    a = -1\n",
    "    b = 1\n",
    "    alpha = 0.00001\n",
    "    \n",
    "    def run_gradient_descent(a,b):\n",
    "        sum_for_a = 0\n",
    "        sum_for_b = 0\n",
    "        \n",
    "        # update simultaneously\n",
    "        for x,y in zip(X,Y):\n",
    "            sum_for_a += ((a*x+b)-y)*x\n",
    "            sum_for_b += ((a*x+b)-y)\n",
    "                        \n",
    "        a = a - alpha*sum_for_a/len(X)\n",
    "        b = b - alpha*sum_for_b/len(X)\n",
    "        \n",
    "        return a, b\n",
    "    \n",
    "    def line(x):\n",
    "        return a*x+b\n",
    "    \n",
    "    idx = 0\n",
    "    while True:\n",
    "        idx += 1\n",
    "        prev_a = a\n",
    "        prev_b = b\n",
    "        a,b = run_gradient_descent(a,b)\n",
    "        print idx, a, b\n",
    "        if abs(a-prev_a) < 0.005 and abs(b-prev_b) < 0.005:\n",
    "            break\n",
    "    \n",
    "    return line, a, b"
   ]
  },
  {
   "cell_type": "code",
   "execution_count": 16,
   "metadata": {
    "collapsed": false
   },
   "outputs": [
    {
     "name": "stdout",
     "output_type": "stream",
     "text": [
      "0    10\n",
      "1    21\n",
      "2    22\n",
      "3     0\n",
      "4     4\n",
      "5    21\n",
      "6     1\n",
      "7     3\n",
      "8     3\n",
      "9    16\n",
      "Name: x, dtype: int64 0    48\n",
      "1    59\n",
      "2    38\n",
      "3    27\n",
      "4    98\n",
      "5    70\n",
      "6    34\n",
      "7    69\n",
      "8    69\n",
      "9    28\n",
      "Name: y, dtype: int64\n",
      "1 -0.993031 1.000631\n",
      "2 -0.986074308264 1.00126128982\n",
      "3 -0.979129903095 1.00189087071\n",
      "4 -0.972197762833 1.00251974392\n",
      "5 -0.965277865858 1.0031479107\n",
      "6 -0.958370190586 1.00377537229\n",
      "7 -0.951474715474 1.00440212992\n",
      "8 -0.944591419014 1.00502818485\n",
      "9 -0.937720279738 1.0056535383\n",
      "10 -0.930861276213 1.00627819151\n",
      "11 -0.924014387049 1.00690214572\n",
      "12 -0.917179590887 1.00752540215\n",
      "13 -0.910356866412 1.00814796203\n",
      "14 -0.903546192341 1.0087698266\n",
      "15 -0.896747547434 1.00939099707\n",
      "16 -0.889960910484 1.01001147466\n",
      "17 -0.883186260323 1.0106312606\n",
      "18 -0.876423575821 1.0112503561\n",
      "19 -0.869672835884 1.01186876237\n",
      "20 -0.862934019457 1.01248648064\n",
      "21 -0.856207105519 1.01310351211\n",
      "22 -0.849492073089 1.013719858\n",
      "23 -0.842788901223 1.0143355195\n",
      "24 -0.836097569011 1.01495049782\n",
      "25 -0.829418055582 1.01556479417\n",
      "26 -0.822750340103 1.01617840974\n",
      "27 -0.816094401774 1.01679134575\n",
      "28 -0.809450219836 1.01740360337\n",
      "29 -0.802817773564 1.0180151838\n",
      "30 -0.79619704227 1.01862608825\n",
      "31 -0.789588005301 1.01923631789\n",
      "32 -0.782990642044 1.01984587391\n",
      "33 -0.776404931919 1.02045475751\n",
      "34 -0.769830854384 1.02106296986\n",
      "35 -0.763268388933 1.02167051214\n",
      "36 -0.756717515096 1.02227738555\n",
      "37 -0.750178212437 1.02288359124\n",
      "38 -0.743650460561 1.02348913041\n",
      "39 -0.737134239104 1.02409400421\n",
      "40 -0.73062952774 1.02469821383\n",
      "41 -0.72413630618 1.02530176043\n",
      "42 -0.717654554167 1.02590464518\n",
      "43 -0.711184251485 1.02650686924\n",
      "44 -0.704725377949 1.02710843378\n",
      "45 -0.698277913412 1.02770933996\n",
      "46 -0.691841837761 1.02830958894\n",
      "47 -0.685417130921 1.02890918187\n",
      "48 -0.679003772849 1.02950811991\n",
      "49 -0.67260174354 1.03010640421\n",
      "50 -0.666211023024 1.03070403592\n",
      "51 -0.659831591364 1.03130101619\n",
      "52 -0.65346342866 1.03189734617\n",
      "53 -0.647106515048 1.032493027\n",
      "54 -0.640760830697 1.03308805983\n",
      "55 -0.634426355811 1.03368244579\n",
      "56 -0.628103070631 1.03427618603\n",
      "57 -0.621790955431 1.03486928168\n",
      "58 -0.61548999052 1.03546173387\n",
      "59 -0.609200156242 1.03605354375\n",
      "60 -0.602921432975 1.03664471243\n",
      "61 -0.596653801133 1.03723524104\n",
      "62 -0.590397241164 1.03782513073\n",
      "63 -0.584151733549 1.0384143826\n",
      "64 -0.577917258806 1.03900299778\n",
      "65 -0.571693797485 1.03959097739\n",
      "66 -0.565481330172 1.04017832255\n",
      "67 -0.559279837485 1.04076503438\n",
      "68 -0.553089300079 1.041351114\n",
      "69 -0.546909698642 1.04193656251\n",
      "70 -0.540741013894 1.04252138102\n",
      "71 -0.534583226592 1.04310557065\n",
      "72 -0.528436317525 1.0436891325\n",
      "73 -0.522300267518 1.04427206768\n",
      "74 -0.516175057427 1.04485437728\n",
      "75 -0.510060668143 1.04543606242\n",
      "76 -0.503957080591 1.04601712419\n",
      "77 -0.49786427573 1.04659756368\n",
      "78 -0.491782234552 1.047177382\n",
      "79 -0.485710938081 1.04775658023\n",
      "80 -0.479650367378 1.04833515947\n",
      "81 -0.473600503533 1.0489131208\n",
      "82 -0.467561327674 1.04949046532\n",
      "83 -0.461532820958 1.05006719411\n",
      "84 -0.455514964578 1.05064330825\n",
      "85 -0.44950773976 1.05121880883\n",
      "86 -0.44351112776 1.05179369693\n",
      "87 -0.437525109872 1.05236797361\n",
      "88 -0.43154966742 1.05294163997\n",
      "89 -0.42558478176 1.05351469707\n",
      "90 -0.419630434282 1.05408714599\n",
      "91 -0.413686606411 1.05465898779\n",
      "92 -0.407753279602 1.05523022355\n",
      "93 -0.401830435342 1.05580085432\n",
      "94 -0.395918055153 1.05637088119\n",
      "95 -0.390016120589 1.0569403052\n",
      "96 -0.384124613236 1.05750912743\n",
      "97 -0.378243514713 1.05807734892\n",
      "98 -0.37237280667 1.05864497075\n",
      "99 -0.36651247079 1.05921199395\n",
      "100 -0.360662488791 1.05977841959\n",
      "101 -0.354822842418 1.06034424872\n",
      "102 -0.348993513453 1.06090948238\n",
      "103 -0.343174483708 1.06147412163\n",
      "104 -0.337365735026 1.06203816751\n",
      "105 -0.331567249285 1.06260162107\n",
      "106 -0.325779008391 1.06316448335\n",
      "107 -0.320000994286 1.06372675538\n",
      "108 -0.314233188942 1.06428843821\n",
      "109 -0.308475574361 1.06484953288\n",
      "110 -0.30272813258 1.06541004042\n",
      "111 -0.296990845665 1.06596996186\n",
      "112 -0.291263695715 1.06652929824\n",
      "113 -0.285546664861 1.06708805058\n",
      "114 -0.279839735264 1.06764621991\n",
      "115 -0.274142889117 1.06820380726\n",
      "116 -0.268456108646 1.06876081365\n",
      "117 -0.262779376105 1.06931724011\n",
      "118 -0.257112673782 1.06987308766\n",
      "119 -0.251455983996 1.07042835731\n",
      "120 -0.245809289096 1.07098305008\n",
      "121 -0.240172571464 1.07153716699\n",
      "122 -0.234545813509 1.07209070904\n",
      "123 -0.228928997677 1.07264367726\n",
      "124 -0.223322106439 1.07319607266\n",
      "125 -0.217725122301 1.07374789623\n",
      "126 -0.212138027799 1.07429914899\n",
      "127 -0.206560805498 1.07484983193\n",
      "128 -0.200993437996 1.07539994608\n",
      "129 -0.19543590792 1.07594949242\n",
      "130 -0.189888197929 1.07649847195\n",
      "131 -0.18435029071 1.07704688567\n",
      "132 -0.178822168985 1.07759473458\n",
      "133 -0.173303815502 1.07814201967\n",
      "134 -0.167795213043 1.07868874194\n",
      "135 -0.162296344416 1.07923490237\n",
      "136 -0.156807192464 1.07978050195\n",
      "137 -0.151327740058 1.08032554167\n",
      "138 -0.145857970098 1.08087002252\n",
      "139 -0.140397865517 1.08141394547\n",
      "140 -0.134947409276 1.08195731152\n",
      "141 -0.129506584366 1.08250012163\n",
      "142 -0.12407537381 1.0830423768\n",
      "143 -0.118653760658 1.08358407798\n",
      "144 -0.113241727992 1.08412522617\n",
      "145 -0.107839258924 1.08466582234\n",
      "146 -0.102446336594 1.08520586744\n",
      "147 -0.0970629441735 1.08574536246\n",
      "148 -0.0916890648622 1.08628430837\n",
      "149 -0.0863246818903 1.08682270612\n",
      "150 -0.0809697785176 1.08736055669\n",
      "151 -0.075624338033 1.08789786103\n",
      "152 -0.070288343755 1.08843462011\n",
      "153 -0.0649617790316 1.08897083488\n",
      "154 -0.0596446272402 1.08950650632\n",
      "155 -0.0543368717873 1.09004163536\n",
      "156 -0.0490384961087 1.09057622297\n",
      "157 -0.0437494836696 1.09111027009\n",
      "158 -0.0384698179641 1.09164377769\n",
      "159 -0.0331994825154 1.0921767467\n",
      "160 -0.0279384608761 1.09270917808\n",
      "161 -0.0226867366273 1.09324107277\n",
      "162 -0.0174442933794 1.09377243172\n",
      "163 -0.0122111147715 1.09430325587\n",
      "164 -0.00698718447173 1.09483354616\n",
      "165 -0.00177248617677 1.09536330353\n",
      "166 0.00343299638778 1.09589252892\n",
      "167 0.00862927946771 1.09642122326\n",
      "168 0.0138163792801 1.09694938749\n",
      "169 0.0189943120136 1.09747702255\n",
      "170 0.0241630938281 1.09800412935\n",
      "171 0.0293227408552 1.09853070884\n",
      "172 0.0344732691979 1.09905676193\n",
      "173 0.039614694931 1.09958228956\n",
      "174 0.0447470341007 1.10010729266\n",
      "175 0.0498703027253 1.10063177213\n",
      "176 0.0549845167944 1.10115572892\n",
      "177 0.0600896922698 1.10167916392\n",
      "178 0.0651858450849 1.10220207807\n",
      "179 0.0702729911452 1.10272447228\n",
      "180 0.0753511463281 1.10324634746\n",
      "181 0.0804203264829 1.10376770453\n",
      "182 0.0854805474311 1.1042885444\n",
      "183 0.0905318249663 1.10480886798\n",
      "184 0.0955741748541 1.10532867618\n",
      "185 0.100607612833 1.1058479699\n",
      "186 0.105632154612 1.10636675005\n",
      "187 0.110647815874 1.10688501754\n",
      "188 0.115654612275 1.10740277326\n",
      "189 0.120652559441 1.10792001811\n"
     ]
    }
   ],
   "source": [
    "line, a, b = simple_fit(df['x'], df['y'])"
   ]
  },
  {
   "cell_type": "code",
   "execution_count": 9,
   "metadata": {
    "collapsed": false
   },
   "outputs": [
    {
     "data": {
      "text/plain": [
       "(0.12065255944136555, 1.1079200181148758)"
      ]
     },
     "execution_count": 9,
     "metadata": {},
     "output_type": "execute_result"
    }
   ],
   "source": [
    "a,b"
   ]
  },
  {
   "cell_type": "code",
   "execution_count": 10,
   "metadata": {
    "collapsed": false
   },
   "outputs": [
    {
     "data": {
      "text/plain": [
       "<matplotlib.axes._subplots.AxesSubplot at 0x10e389dd0>"
      ]
     },
     "execution_count": 10,
     "metadata": {},
     "output_type": "execute_result"
    },
    {
     "data": {
      "image/png": "[encoded data removed]",
      "text/plain": [
       "<matplotlib.figure.Figure at 0x10e400090>"
      ]
     },
     "metadata": {},
     "output_type": "display_data"
    }
   ],
   "source": [
    "DataFrame({\n",
    "        'x':range(100), \n",
    "        'y': [line(i) for i in range(100)]\n",
    "}).plot(kind='scatter', x='x', y='y')"
   ]
  },
  {
   "cell_type": "code",
   "execution_count": 11,
   "metadata": {
    "collapsed": true
   },
   "outputs": [],
   "source": [
    "# http://code.activestate.com/recipes/578914-simple-linear-regression-with-pure-python/\n",
    "def advanced_fit(X, Y):\n",
    "\n",
    "    def mean(Xs):\n",
    "        return sum(Xs) / len(Xs)\n",
    "    \n",
    "    m_X = mean(X)\n",
    "    m_Y = mean(Y)\n",
    "\n",
    "    def std(Xs, m):\n",
    "        normalizer = len(Xs) - 1\n",
    "        return math.sqrt(sum((pow(x - m, 2) for x in Xs)) / normalizer)\n",
    "    # assert np.round(Series(X).std(), 6) == np.round(std(X, m_X), 6)\n",
    "\n",
    "    def pearson_r(Xs, Ys):\n",
    "    # 상관계수\n",
    "        sum_xy = 0\n",
    "        sum_sq_v_x = 0\n",
    "        sum_sq_v_y = 0\n",
    "\n",
    "        for (x, y) in zip(Xs, Ys):\n",
    "            var_x = x - m_X\n",
    "            var_y = y - m_Y\n",
    "            sum_xy += var_x * var_y\n",
    "            sum_sq_v_x += pow(var_x, 2)\n",
    "            sum_sq_v_y += pow(var_y, 2)\n",
    "            \n",
    "        return sum_xy / math.sqrt(sum_sq_v_x * sum_sq_v_y)\n",
    "    # assert np.round(Series(X).corr(Series(Y)), 6) == np.round(pearson_r(X, Y), 6)\n",
    "\n",
    "    r = pearson_r(X, Y)\n",
    "\n",
    "    b = r * (std(Y, m_Y) / std(X, m_X))\n",
    "    A = m_Y - b * m_X\n",
    "\n",
    "    def line(x):\n",
    "        return b * x + A\n",
    "    \n",
    "    return line, b, A"
   ]
  },
  {
   "cell_type": "code",
   "execution_count": 12,
   "metadata": {
    "collapsed": false
   },
   "outputs": [],
   "source": [
    "ad_line, a, b = advanced_fit(df['x'], df['y'])"
   ]
  },
  {
   "cell_type": "code",
   "execution_count": 13,
   "metadata": {
    "collapsed": false
   },
   "outputs": [
    {
     "data": {
      "text/plain": [
       "(-0.19230245069186136, 55.923024506918615)"
      ]
     },
     "execution_count": 13,
     "metadata": {},
     "output_type": "execute_result"
    }
   ],
   "source": [
    "a,b"
   ]
  },
  {
   "cell_type": "code",
   "execution_count": 14,
   "metadata": {
    "collapsed": false
   },
   "outputs": [
    {
     "data": {
      "text/plain": [
       "<matplotlib.axes._subplots.AxesSubplot at 0x10e28d8d0>"
      ]
     },
     "execution_count": 14,
     "metadata": {},
     "output_type": "execute_result"
    },
    {
     "data": {
      "image/png": "[encoded data removed]",
      "text/plain": [
       "<matplotlib.figure.Figure at 0x10e5a2950>"
      ]
     },
     "metadata": {},
     "output_type": "display_data"
    }
   ],
   "source": [
    "DataFrame({\n",
    "        'x':range(100), \n",
    "        'y': [ad_line(i) for i in range(100)]\n",
    "}).plot(kind='scatter', x='x', y='y')"
   ]
  },
  {
   "cell_type": "markdown",
   "metadata": {},
   "source": [
    "# References\n",
    "- [미분은 어떻게 코드로 구현하는가](http://stackoverflow.com/questions/9876290/how-do-i-compute-derivative-using-numpy)"
   ]
  },
  {
   "cell_type": "code",
   "execution_count": null,
   "metadata": {
    "collapsed": true
   },
   "outputs": [],
   "source": []
  }
 ],
 "metadata": {
  "kernelspec": {
   "display_name": "Python 2",
   "language": "python",
   "name": "python2"
  },
  "language_info": {
   "codemirror_mode": {
    "name": "ipython",
    "version": 2
   },
   "file_extension": ".py",
   "mimetype": "text/x-python",
   "name": "python",
   "nbconvert_exporter": "python",
   "pygments_lexer": "ipython2",
   "version": "2.7.12"
  }
 },
 "nbformat": 4,
 "nbformat_minor": 0
}
