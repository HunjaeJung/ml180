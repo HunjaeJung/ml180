{
 "cells": [
  {
   "cell_type": "markdown",
   "metadata": {},
   "source": [
    "# Classification\n",
    "\n",
    "기냐 아니냐 판단할때 여러가지 근거를 가지고 판단한다. 설치할지/안할지, 들어올지/안들어올지, 스팸인지/아닌지, 사기인지/아닌지, 양성인지/음성인지.. 이런 `y={0,1}` 분류 문제(Binary classification)를 풀려면 어떻게 해야할까?\n",
    "\n",
    "```\n",
    "0은 negative class,\n",
    "1은 positive class\n",
    "```\n",
    "\n",
    "직선(linear)을 사용하지 않고, [S 커브(logistic)](https://en.wikipedia.org/wiki/Logistic_function)을 사용하는 것이다. 이 S커브는 정의역 $x \\in ({-\\infty, \\infty}) $에서 정의되고 항상 0에서 1사이 값을 갖는다."
   ]
  },
  {
   "cell_type": "markdown",
   "metadata": {},
   "source": [
    "## Logistic function (Sigmoid function)\n",
    "\n",
    "$$ h(x) = \\frac{1}{(1+{e^{-{x}}})} $$\n",
    "\n",
    "이 (0, 0.5) 점대칭인 S 커브가 Logistic function이고, 이 함수를 모델로 Logistic regression을 할 것이다. 아래는 실제로 한 번 그려보는 코드.\n",
    "\n",
    "=> (m,n) 점대칭\n",
    "\n",
    "$ \\frac{f(2m-x)+f(x)}{2} = n $\n"
   ]
  },
  {
   "cell_type": "code",
   "execution_count": 18,
   "metadata": {
    "collapsed": true
   },
   "outputs": [],
   "source": [
    "# Package path\n",
    "import sys; sys.path.append('/usr/local/lib/python2.7/site-packages')\n",
    "import numpy as np\n",
    "import matplotlib.pyplot as plt\n",
    "%matplotlib inline"
   ]
  },
  {
   "cell_type": "code",
   "execution_count": 24,
   "metadata": {
    "collapsed": true
   },
   "outputs": [],
   "source": [
    "def sigmoid(t):\n",
    "    return 1.0 / (1.0+np.exp(-t))"
   ]
  },
  {
   "cell_type": "code",
   "execution_count": 40,
   "metadata": {
    "collapsed": true
   },
   "outputs": [],
   "source": [
    "# -6부터 6까지 500개 등분 (linearly spaced)\n",
    "t = np.linspace(-6, 6, 500)"
   ]
  },
  {
   "cell_type": "code",
   "execution_count": 41,
   "metadata": {
    "collapsed": false
   },
   "outputs": [],
   "source": [
    "# [sigmoid(ele) for ele in t]"
   ]
  },
  {
   "cell_type": "code",
   "execution_count": 42,
   "metadata": {
    "collapsed": false
   },
   "outputs": [],
   "source": [
    "# logistic 함수를 그리기 위해 해당 정의역에서 y 값을 그림\n",
    "y = np.array([sigmoid(ele) for ele in t])"
   ]
  },
  {
   "cell_type": "code",
   "execution_count": 44,
   "metadata": {
    "collapsed": false
   },
   "outputs": [
    {
     "data": {
      "text/plain": [
       "<matplotlib.text.Text at 0x10c4b5990>"
      ]
     },
     "execution_count": 44,
     "metadata": {},
     "output_type": "execute_result"
    },
    {
     "data": {
      "image/png": "[encoded data removed]",
      "text/plain": [
       "<matplotlib.figure.Figure at 0x10c400dd0>"
      ]
     },
     "metadata": {},
     "output_type": "display_data"
    }
   ],
   "source": [
    "plt.plot(t,y, 'r+')\n",
    "plt.title('Logistic function')"
   ]
  },
  {
   "cell_type": "markdown",
   "metadata": {},
   "source": [
    "## Logistic regression\n",
    "\n",
    "그래서 저 S 커브로 어떻게 분류 작업을 하느냐인데, Logistic regression의 기본적인 개념은 이 Logistic Function의 y값을 y가 1이 될 확률로 보는 것이다. \n",
    "\n",
    "$$ h_{\\theta}(x) = \\frac{1}{(1+{e^{-{\\theta}^T{x}}})} = P\\left(y=1\\middle | x; \\theta\\right)$$\n",
    "\n",
    "그래서 $P\\left(y=1\\middle | x; \\theta\\right)$이 확률이 0.5가 이상이면 1로 분류하고, 0.5 미만이면 0으로 분류하는 것이다. 그런데 그래프에서 y값(확률)이 0.5보다 커지는 기준을 보면 ${\\theta}^T{x} > 0$ 일때 이다. 이때 확률이 0.5가 되는 지점 즉 ${\\theta}^T{x}=0$이 되는 점들을 **Descision boundary**라고 한다.\n",
    "\n",
    "목표는 모델을 이렇게 두고, 최적의 $\\theta$ 값을 찾는 것이다. default $\\theta$값을 두고, Gradient Descent를 통해 Cost function이 가장 작은 $\\theta$값을 찾아가는 것이다.\n",
    "\n",
    "$$ J(\\theta) = \\frac{1}{m} \\sum_{i=1}^{m}{Cost(h_{\\theta}(x^{(i)}), y^{(i)})} $$\n",
    "\n",
    "$$ \\min_{\\theta}{J(\\theta)} $$\n",
    "\n",
    "고등학교 미적분 수업을 정상적으로 이수했다면, \"최소/최대값? => 미분이지!\"가 떠오를 것이다. 여기서도 Cost function의 최소값을 구하기 위해 \"편미분\"을 한다. Logistic regression의 Cost function은 아래와 같이 정의한다. Logistic regression에서 Cost function을 Linear regression의 Cost function처럼 사용하면 Convex가 아니여서 안된다.\n",
    "\n",
    "$$ J(\\theta) = -\\frac{1}{m} \\sum_{i=1}^{m}{ [y^{(i)}\\log{h_{\\theta}(x^{(i)})} + (1-y^{(i)})\\log{(1-h_{\\theta}(x^{(i)}))}] } $$\n",
    "\n",
    "이 녀석을 $\\theta_j$로 미분하면.. [아주 놀랍게도](http://feature-space.com/2011/10/28/logistic-cost-function-derivative/) 아래와 같이 로그가 사라진 깔끔한 형태가 나온다.\n",
    "\n",
    "$$ \\frac{d}{d\\theta_j}J(\\theta) = \\frac{1}{m} \\sum_{i=1}^{m}{[h_{\\theta}(x^{(i)})-y^{(i)}]x_j}$$\n",
    "\n",
    "theta의 초기값이 주워지고 나서, minimum값을 찾기 위해 현 위치보다 조금 더 아래로 갈 수 있는 곳으로 발자국을 떼는데 그것을 수식으로 표현하면 아래와 같다.\n",
    "\n",
    "$$ \\theta_j := \\theta_j - {\\alpha} \\frac{d}{d\\theta_j}J(\\theta) $$\n",
    "\n",
    "$$ \\theta_j := \\theta_j - \\frac{\\alpha}{m} \\sum_{i=1}^{m}{[h_{\\theta}(x^{(i)})-y^{(i)}]x_j} $$\n",
    "\n",
    "이제 for문 안에서 열심히 **편미분값으로 방향을 잡아 가면서 가장 작은 Cost function을 찾아가면** 된다. "
   ]
  },
  {
   "cell_type": "markdown",
   "metadata": {},
   "source": [
    "## Logistic Regression in Pure Python"
   ]
  },
  {
   "cell_type": "code",
   "execution_count": 45,
   "metadata": {
    "collapsed": true
   },
   "outputs": [],
   "source": [
    "import pandas as pd\n",
    "import numpy as np\n",
    "import matplotlib\n",
    "import matplotlib.pyplot as plt\n",
    "\n",
    "%matplotlib inline"
   ]
  },
  {
   "cell_type": "code",
   "execution_count": 46,
   "metadata": {
    "collapsed": true
   },
   "outputs": [],
   "source": [
    "df = pd.read_csv(\"../CourseraCourse/HunjaeJung/machine-learning-ex2/ex2/ex2data1.txt\", names=['ex1', 'ex2', 'admitted'])"
   ]
  },
  {
   "cell_type": "code",
   "execution_count": 47,
   "metadata": {
    "collapsed": false
   },
   "outputs": [
    {
     "data": {
      "text/html": [
       "<div>\n",
       "<table border=\"1\" class=\"dataframe\">\n",
       "  <thead>\n",
       "    <tr style=\"text-align: right;\">\n",
       "      <th></th>\n",
       "      <th>ex1</th>\n",
       "      <th>ex2</th>\n",
       "      <th>admitted</th>\n",
       "    </tr>\n",
       "  </thead>\n",
       "  <tbody>\n",
       "    <tr>\n",
       "      <th>0</th>\n",
       "      <td>34.623660</td>\n",
       "      <td>78.024693</td>\n",
       "      <td>0</td>\n",
       "    </tr>\n",
       "    <tr>\n",
       "      <th>1</th>\n",
       "      <td>30.286711</td>\n",
       "      <td>43.894998</td>\n",
       "      <td>0</td>\n",
       "    </tr>\n",
       "    <tr>\n",
       "      <th>2</th>\n",
       "      <td>35.847409</td>\n",
       "      <td>72.902198</td>\n",
       "      <td>0</td>\n",
       "    </tr>\n",
       "    <tr>\n",
       "      <th>3</th>\n",
       "      <td>60.182599</td>\n",
       "      <td>86.308552</td>\n",
       "      <td>1</td>\n",
       "    </tr>\n",
       "    <tr>\n",
       "      <th>4</th>\n",
       "      <td>79.032736</td>\n",
       "      <td>75.344376</td>\n",
       "      <td>1</td>\n",
       "    </tr>\n",
       "  </tbody>\n",
       "</table>\n",
       "</div>"
      ],
      "text/plain": [
       "         ex1        ex2  admitted\n",
       "0  34.623660  78.024693         0\n",
       "1  30.286711  43.894998         0\n",
       "2  35.847409  72.902198         0\n",
       "3  60.182599  86.308552         1\n",
       "4  79.032736  75.344376         1"
      ]
     },
     "execution_count": 47,
     "metadata": {},
     "output_type": "execute_result"
    }
   ],
   "source": [
    "df.head()"
   ]
  },
  {
   "cell_type": "code",
   "execution_count": 48,
   "metadata": {
    "collapsed": false
   },
   "outputs": [
    {
     "data": {
      "text/plain": [
       "[<matplotlib.lines.Line2D at 0x10e0d39d0>]"
      ]
     },
     "execution_count": 48,
     "metadata": {},
     "output_type": "execute_result"
    },
    {
     "data": {
      "image/png": "[encoded data removed]",
      "text/plain": [
       "<matplotlib.figure.Figure at 0x10e019a50>"
      ]
     },
     "metadata": {},
     "output_type": "display_data"
    }
   ],
   "source": [
    "x = np.arange(0, 5, 0.1);\n",
    "y = np.sin(x)\n",
    "\n",
    "pos = df[df['admitted']==1]\n",
    "neg = df[df['admitted']==0]\n",
    "\n",
    "plt.plot(pos['ex1'], pos['ex2'], 'k+')\n",
    "plt.plot(neg['ex1'], neg['ex2'], 'yo')"
   ]
  },
  {
   "cell_type": "code",
   "execution_count": 49,
   "metadata": {
    "collapsed": false
   },
   "outputs": [
    {
     "name": "stdout",
     "output_type": "stream",
     "text": [
      "<class 'pandas.core.frame.DataFrame'>\n",
      "RangeIndex: 100 entries, 0 to 99\n",
      "Data columns (total 3 columns):\n",
      "ex1         100 non-null float64\n",
      "ex2         100 non-null float64\n",
      "admitted    100 non-null int64\n",
      "dtypes: float64(2), int64(1)\n",
      "memory usage: 2.4 KB\n"
     ]
    }
   ],
   "source": [
    "df.info()"
   ]
  },
  {
   "cell_type": "code",
   "execution_count": 50,
   "metadata": {
    "collapsed": false
   },
   "outputs": [
    {
     "data": {
      "text/plain": [
       "(100, 3)"
      ]
     },
     "execution_count": 50,
     "metadata": {},
     "output_type": "execute_result"
    }
   ],
   "source": [
    "df.shape"
   ]
  },
  {
   "cell_type": "code",
   "execution_count": 53,
   "metadata": {
    "collapsed": false
   },
   "outputs": [],
   "source": [
    "# Theta 초기화값만 있다면 데이터를 가지고 당장 J(theta)과 J'(theta)를구할 수 있어요\n",
    "initial_theta = np.zeros([df.shape[1], 1])"
   ]
  },
  {
   "cell_type": "code",
   "execution_count": 54,
   "metadata": {
    "collapsed": false
   },
   "outputs": [
    {
     "data": {
      "text/plain": [
       "array([[ 0.],\n",
       "       [ 0.],\n",
       "       [ 0.]])"
      ]
     },
     "execution_count": 54,
     "metadata": {},
     "output_type": "execute_result"
    }
   ],
   "source": [
    "initial_theta"
   ]
  },
  {
   "cell_type": "code",
   "execution_count": 55,
   "metadata": {
    "collapsed": true
   },
   "outputs": [],
   "source": [
    "X = df[df.columns[:-1]]"
   ]
  },
  {
   "cell_type": "code",
   "execution_count": 58,
   "metadata": {
    "collapsed": false
   },
   "outputs": [],
   "source": [
    "dummy_x = np.ones(df.shape[0])"
   ]
  },
  {
   "cell_type": "code",
   "execution_count": 59,
   "metadata": {
    "collapsed": false
   },
   "outputs": [],
   "source": [
    "X_df = pd.concat([pd.DataFrame(dummy_x), X], axis=1)"
   ]
  },
  {
   "cell_type": "code",
   "execution_count": 61,
   "metadata": {
    "collapsed": false
   },
   "outputs": [],
   "source": [
    "X = X_df.as_matrix()"
   ]
  },
  {
   "cell_type": "code",
   "execution_count": 63,
   "metadata": {
    "collapsed": true
   },
   "outputs": [],
   "source": [
    "y_df = df['admitted']"
   ]
  },
  {
   "cell_type": "code",
   "execution_count": 64,
   "metadata": {
    "collapsed": true
   },
   "outputs": [],
   "source": [
    "y = y_df.as_matrix()"
   ]
  },
  {
   "cell_type": "code",
   "execution_count": 65,
   "metadata": {
    "collapsed": true
   },
   "outputs": [],
   "source": [
    "sample_X = X"
   ]
  },
  {
   "cell_type": "code",
   "execution_count": 66,
   "metadata": {
    "collapsed": true
   },
   "outputs": [],
   "source": [
    "sample_y = y"
   ]
  },
  {
   "cell_type": "code",
   "execution_count": 67,
   "metadata": {
    "collapsed": false
   },
   "outputs": [],
   "source": [
    "y = y.reshape(100,1)"
   ]
  },
  {
   "cell_type": "code",
   "execution_count": 68,
   "metadata": {
    "collapsed": true
   },
   "outputs": [],
   "source": [
    "def cost_function(theta, X, y, l):\n",
    "    m = X.shape[0]\n",
    "    h = sigmoid(X.dot(theta))\n",
    "    \n",
    "    cost = -(1.0/m)* np.sum(np.multiply(y, np.log(h)) + np.multiply(1-y, np.log(1-h)))\n",
    "    \n",
    "    grad = (1.0/m)*X.transpose().dot(h-y)\n",
    "    \n",
    "    return cost, grad"
   ]
  },
  {
   "cell_type": "code",
   "execution_count": 69,
   "metadata": {
    "collapsed": false
   },
   "outputs": [],
   "source": [
    "cost, grad = cost_function(initial_theta, X, y, 1)"
   ]
  },
  {
   "cell_type": "code",
   "execution_count": 71,
   "metadata": {
    "collapsed": false
   },
   "outputs": [
    {
     "data": {
      "text/plain": [
       "0.69314718055994529"
      ]
     },
     "execution_count": 71,
     "metadata": {},
     "output_type": "execute_result"
    }
   ],
   "source": [
    "cost"
   ]
  },
  {
   "cell_type": "code",
   "execution_count": 72,
   "metadata": {
    "collapsed": false
   },
   "outputs": [
    {
     "data": {
      "text/plain": [
       "array([[ -0.1       ],\n",
       "       [-12.00921659],\n",
       "       [-11.26284221]])"
      ]
     },
     "execution_count": 72,
     "metadata": {},
     "output_type": "execute_result"
    }
   ],
   "source": [
    "grad"
   ]
  },
  {
   "cell_type": "code",
   "execution_count": 73,
   "metadata": {
    "collapsed": false
   },
   "outputs": [],
   "source": [
    "theta = initial_theta\n",
    "a = 0.0008\n",
    "prev_cost = 0"
   ]
  },
  {
   "cell_type": "code",
   "execution_count": 77,
   "metadata": {
    "collapsed": false
   },
   "outputs": [],
   "source": [
    "for i in range(4000):\n",
    "    cost, grad = cost_function(theta, X, y, 1)\n",
    "    theta = theta - a*(grad)\n",
    "#     print cost"
   ]
  },
  {
   "cell_type": "code",
   "execution_count": 79,
   "metadata": {
    "collapsed": false
   },
   "outputs": [],
   "source": [
    "# 아.. 존나 안됨..\n",
    "# theta = fmin_bfgs(cost_function_wrapper, x0=initial_theta, fprime=cost_grad_function_wrapper, args=(X, y, 1), maxiter = 40)"
   ]
  },
  {
   "cell_type": "markdown",
   "metadata": {},
   "source": [
    "## Logistic Regression in tensorflow"
   ]
  },
  {
   "cell_type": "code",
   "execution_count": 10,
   "metadata": {
    "collapsed": false
   },
   "outputs": [],
   "source": [
    "import tensorflow as tf\n",
    "import numpy as np\n",
    "import pandas as pd\n",
    "import matplotlib.pyplot as plt\n",
    "%matplotlib inline"
   ]
  },
  {
   "cell_type": "code",
   "execution_count": 11,
   "metadata": {
    "collapsed": true
   },
   "outputs": [],
   "source": [
    "x_data = np.float32(np.random.rand(2,100))"
   ]
  },
  {
   "cell_type": "code",
   "execution_count": 14,
   "metadata": {
    "collapsed": false
   },
   "outputs": [
    {
     "data": {
      "text/plain": [
       "(2, 100)"
      ]
     },
     "execution_count": 14,
     "metadata": {},
     "output_type": "execute_result"
    }
   ],
   "source": [
    "x_data.shape"
   ]
  },
  {
   "cell_type": "code",
   "execution_count": 19,
   "metadata": {
    "collapsed": false
   },
   "outputs": [],
   "source": [
    "y_data = np.dot([0.100, 0.200], x_data) + 0.3"
   ]
  },
  {
   "cell_type": "code",
   "execution_count": 28,
   "metadata": {
    "collapsed": true
   },
   "outputs": [],
   "source": [
    "c = tf.Variable(tf.zeros([1]))"
   ]
  },
  {
   "cell_type": "code",
   "execution_count": 29,
   "metadata": {
    "collapsed": true
   },
   "outputs": [],
   "source": [
    "W = tf.Variable(tf.random_uniform([1,2], -1.0, 1.0))"
   ]
  },
  {
   "cell_type": "code",
   "execution_count": 30,
   "metadata": {
    "collapsed": false
   },
   "outputs": [],
   "source": [
    "y = tf.matmul(W, x_data) + c"
   ]
  },
  {
   "cell_type": "code",
   "execution_count": 31,
   "metadata": {
    "collapsed": false
   },
   "outputs": [],
   "source": [
    "loss = tf.reduce_mean(tf.square(y-y_data))"
   ]
  },
  {
   "cell_type": "code",
   "execution_count": 40,
   "metadata": {
    "collapsed": true
   },
   "outputs": [],
   "source": [
    "optimizer = tf.train.GradientDescentOptimizer(0.01)"
   ]
  },
  {
   "cell_type": "code",
   "execution_count": 41,
   "metadata": {
    "collapsed": true
   },
   "outputs": [],
   "source": [
    "train = optimizer.minimize(loss)"
   ]
  },
  {
   "cell_type": "code",
   "execution_count": 42,
   "metadata": {
    "collapsed": true
   },
   "outputs": [],
   "source": [
    "loss_list = []"
   ]
  },
  {
   "cell_type": "code",
   "execution_count": 43,
   "metadata": {
    "collapsed": true
   },
   "outputs": [],
   "source": [
    "init_op = tf.global_variables_initializer()"
   ]
  },
  {
   "cell_type": "code",
   "execution_count": 44,
   "metadata": {
    "collapsed": true
   },
   "outputs": [],
   "source": [
    "sess = tf.Session()"
   ]
  },
  {
   "cell_type": "code",
   "execution_count": 45,
   "metadata": {
    "collapsed": true
   },
   "outputs": [],
   "source": [
    "sess.run(init_op)"
   ]
  },
  {
   "cell_type": "code",
   "execution_count": 46,
   "metadata": {
    "collapsed": true
   },
   "outputs": [],
   "source": [
    "for i in xrange(0,2000):\n",
    "    sess.run(train)\n",
    "    loss_list.append(sess.run(loss))"
   ]
  },
  {
   "cell_type": "code",
   "execution_count": 47,
   "metadata": {
    "collapsed": false
   },
   "outputs": [
    {
     "data": {
      "text/plain": [
       "[<matplotlib.lines.Line2D at 0x10fba76d0>]"
      ]
     },
     "execution_count": 47,
     "metadata": {},
     "output_type": "execute_result"
    },
    {
     "data": {
      "image/png": "[encoded data removed]",
      "text/plain": [
       "<matplotlib.figure.Figure at 0x10f982c10>"
      ]
     },
     "metadata": {},
     "output_type": "display_data"
    }
   ],
   "source": [
    "plt.plot(loss_list)"
   ]
  },
  {
   "cell_type": "code",
   "execution_count": null,
   "metadata": {
    "collapsed": true
   },
   "outputs": [],
   "source": []
  },
  {
   "cell_type": "code",
   "execution_count": null,
   "metadata": {
    "collapsed": true
   },
   "outputs": [],
   "source": []
  },
  {
   "cell_type": "code",
   "execution_count": 4,
   "metadata": {
    "collapsed": true
   },
   "outputs": [],
   "source": [
    "xy = np.loadtxt('04train.txt', unpack=True, dtype='float32')\n",
    "x_data = xy[0:-1]\n",
    "y_data = xy[-1]"
   ]
  },
  {
   "cell_type": "code",
   "execution_count": 2,
   "metadata": {
    "collapsed": true
   },
   "outputs": [],
   "source": [
    "X = tf.placeholder(tf.float32)\n",
    "Y = tf.placeholder(tf.float32)\n",
    "# len(x_data)개의 theta를 -1부터 1까지 random 설정\n",
    "W = tf.Variable(tf.random_uniform([1, len(x_data)], -1.0, 1.0)) "
   ]
  },
  {
   "cell_type": "code",
   "execution_count": 636,
   "metadata": {
    "collapsed": true
   },
   "outputs": [],
   "source": [
    "h = tf.matmul(W, X)\n",
    "hypothesis = tf.div(1., 1. + tf.exp(-h))"
   ]
  },
  {
   "cell_type": "code",
   "execution_count": 637,
   "metadata": {
    "collapsed": false
   },
   "outputs": [],
   "source": [
    "# reduce mean 평균구하기\n",
    "cost = -tf.reduce_mean(Y * tf.log(hypothesis) + (1 - Y) * tf.log(1 - hypothesis))"
   ]
  },
  {
   "cell_type": "code",
   "execution_count": 638,
   "metadata": {
    "collapsed": true
   },
   "outputs": [],
   "source": [
    "a = tf.Variable(0.1)  # learning rate, alpha\n",
    "optimizer = tf.train.GradientDescentOptimizer(a)\n",
    "train = optimizer.minimize(cost)  # goal is minimize cost"
   ]
  },
  {
   "cell_type": "code",
   "execution_count": 639,
   "metadata": {
    "collapsed": false
   },
   "outputs": [],
   "source": [
    "# 초기화 사용해야함.\n",
    "init = tf.global_variables_initializer()"
   ]
  },
  {
   "cell_type": "code",
   "execution_count": 646,
   "metadata": {
    "collapsed": false
   },
   "outputs": [
    {
     "name": "stdout",
     "output_type": "stream",
     "text": [
      "0 0.65208 [[-0.65913403  0.81738943 -0.60867792]]\n",
      "20 0.604939 [[-0.79773539  0.61710471 -0.42658219]]\n",
      "40 0.583135 [[-0.92746985  0.50917882 -0.30476254]]\n",
      "60 0.570978 [[-1.0524404   0.45424983 -0.2300947 ]]\n",
      "80 0.562288 [[-1.17288446  0.42972893 -0.18269151]]\n",
      "100 0.555008 [[-1.28884053  0.42151192 -0.15029444]]\n",
      "120 0.548497 [[-1.40039003  0.42169628 -0.12606879]]\n",
      "140 0.542542 [[-1.50767744  0.42606744 -0.10636337]]\n",
      "160 0.537054 [[-1.6108855   0.4324277  -0.08925658]]\n",
      "180 0.531979 [[-1.7102145   0.43964374 -0.07373641]]\n",
      "200 0.527275 [[-1.80586731  0.44713554 -0.05926405]]\n",
      "220 0.522909 [[-1.8980428   0.45460939 -0.045546  ]]\n",
      "240 0.518848 [[-1.98693144  0.46191987 -0.03241688]]\n",
      "260 0.515067 [[-2.0727129   0.46899813 -0.01977887]]\n",
      "280 0.511541 [[-2.15555811  0.47581547 -0.00757011]]\n",
      "300 0.508246 [[-2.23562574  0.48236355  0.00425149]]\n",
      "320 0.505165 [[-2.31306481  0.48864466  0.0157169 ]]\n",
      "340 0.502278 [[-2.38801479  0.4946664   0.02685037]]\n",
      "360 0.49957 [[-2.46060634  0.50043893  0.03767229]]\n",
      "380 0.497026 [[-2.53096104  0.5059734   0.04820025]]\n",
      "400 0.494633 [[-2.59919357  0.51128119  0.05844988]]\n",
      "420 0.49238 [[-2.6654098   0.51637363  0.06843532]]\n",
      "440 0.490254 [[-2.72970891  0.52126151  0.07816935]]\n",
      "460 0.488248 [[-2.79218483  0.5259552   0.0876641 ]]\n",
      "480 0.486351 [[-2.85292459  0.53046477  0.09693052]]\n",
      "500 0.484557 [[-2.91200995  0.53479952  0.10597889]]\n",
      "520 0.482856 [[-2.96951795  0.53896838  0.1148188 ]]\n",
      "540 0.481244 [[-3.02552056  0.54297966  0.12345935]]\n",
      "560 0.479713 [[-3.08008599  0.54684126  0.13190894]]\n",
      "580 0.478258 [[-3.13327694  0.55056059  0.14017537]]\n",
      "600 0.476874 [[-3.18515396  0.55414474  0.14826617]]\n",
      "620 0.475556 [[-3.23577309  0.5576002   0.15618825]]\n",
      "640 0.4743 [[-3.28518701  0.56093329  0.16394815]]\n",
      "660 0.473103 [[-3.33344626  0.56414986  0.17155208]]\n",
      "680 0.471959 [[-3.38059783  0.56725538  0.17900595]]\n",
      "700 0.470866 [[-3.42668748  0.57025522  0.18631545]]\n",
      "720 0.469821 [[-3.4717555   0.57315409  0.19348547]]\n",
      "740 0.468821 [[-3.5158422   0.57595682  0.20052105]]\n",
      "760 0.467863 [[-3.55898643  0.57866764  0.20742714]]\n",
      "780 0.466945 [[-3.60122299  0.58129072  0.21420813]]\n",
      "800 0.466065 [[-3.64258647  0.58383     0.22086821]]\n",
      "820 0.46522 [[-3.68310785  0.58628917  0.22741131]]\n",
      "840 0.464408 [[-3.72281837  0.58867174  0.2338414 ]]\n",
      "860 0.463628 [[-3.76174784  0.59098119  0.24016212]]\n",
      "880 0.462878 [[-3.79992199  0.59322029  0.2463769 ]]\n",
      "900 0.462156 [[-3.83736777  0.59539211  0.25248912]]\n",
      "920 0.461461 [[-3.87411022  0.59749955  0.25850186]]\n",
      "940 0.460792 [[-3.91017246  0.59954512  0.26441815]]\n",
      "960 0.460146 [[-3.94557834  0.60153157  0.27024111]]\n",
      "980 0.459524 [[-3.98034859  0.60346115  0.2759732 ]]\n",
      "1000 0.458923 [[-4.01450396  0.60533619  0.28161731]]\n",
      "1020 0.458343 [[-4.04806376  0.60715872  0.2871758 ]]\n",
      "1040 0.457783 [[-4.08104706  0.60893095  0.29265118]]\n",
      "1060 0.457241 [[-4.11347342  0.61065489  0.29804596]]\n",
      "1080 0.456718 [[-4.14535761  0.61233228  0.30336207]]\n",
      "1100 0.456211 [[-4.1767168   0.61396492  0.30860177]]\n",
      "1120 0.455721 [[-4.20756721  0.61555439  0.31376725]]\n",
      "1140 0.455246 [[-4.23792362  0.61710238  0.31886038]]\n",
      "1160 0.454786 [[-4.26779985  0.61861038  0.323883  ]]\n",
      "1180 0.454341 [[-4.29721117  0.62007993  0.32883713]]\n",
      "1200 0.453908 [[-4.32616949  0.62151241  0.33372432]]\n",
      "1220 0.453489 [[-4.35468769  0.62290907  0.33854628]]\n",
      "1240 0.453083 [[-4.38277864  0.62427104  0.34330481]]\n",
      "1260 0.452688 [[-4.4104538   0.62559986  0.34800139]]\n",
      "1280 0.452305 [[-4.43772411  0.62689644  0.35263753]]\n",
      "1300 0.451932 [[-4.46460056  0.62816197  0.35721469]]\n",
      "1320 0.451571 [[-4.49109364  0.62939751  0.36173427]]\n",
      "1340 0.451219 [[-4.51721478  0.63060409  0.36619771]]\n",
      "1360 0.450877 [[-4.54297256  0.63178265  0.37060648]]\n",
      "1380 0.450544 [[-4.56837559  0.63293397  0.37496156]]\n",
      "1400 0.45022 [[-4.59343386  0.63405925  0.37926421]]\n",
      "1420 0.449905 [[-4.61815548  0.63515908  0.38351572]]\n",
      "1440 0.449598 [[-4.64254856  0.63623434  0.38771713]]\n",
      "1460 0.4493 [[-4.66662169  0.63728595  0.39186952]]\n",
      "1480 0.449008 [[-4.69038248  0.63831443  0.39597425]]\n",
      "1500 0.448725 [[-4.71383858  0.63932055  0.40003207]]\n",
      "1520 0.448448 [[-4.7369976   0.64030516  0.40404427]]\n",
      "1540 0.448178 [[-4.75986671  0.64126885  0.40801165]]\n",
      "1560 0.447915 [[-4.78245115  0.64221221  0.41193515]]\n",
      "1580 0.447659 [[-4.80475807  0.64313579  0.41581559]]\n",
      "1600 0.447408 [[-4.82679462  0.64404017  0.4196541 ]]\n",
      "1620 0.447163 [[-4.84856606  0.64492607  0.42345136]]\n",
      "1640 0.446925 [[-4.87007856  0.64579415  0.42720813]]\n",
      "1660 0.446692 [[-4.89133835  0.64664453  0.43092546]]\n",
      "1680 0.446464 [[-4.91235065  0.64747798  0.43460414]]\n",
      "1700 0.446241 [[-4.93312073  0.64829504  0.43824476]]\n",
      "1720 0.446024 [[-4.95365429  0.64909607  0.44184816]]\n",
      "1740 0.445811 [[-4.97395611  0.64988154  0.44541505]]\n",
      "1760 0.445603 [[-4.99403     0.65065175  0.44894603]]\n",
      "1780 0.4454 [[-5.01388168  0.6514073   0.45244187]]\n",
      "1800 0.445201 [[-5.03351545  0.65214854  0.45590323]]\n",
      "1820 0.445006 [[-5.05293655  0.65287572  0.45933092]]\n",
      "1840 0.444815 [[-5.07214928  0.65358961  0.46272534]]\n",
      "1860 0.444629 [[-5.09115648  0.6542902   0.46608704]]\n",
      "1880 0.444446 [[-5.10996342  0.65497798  0.4694168 ]]\n",
      "1900 0.444267 [[-5.12857437  0.65565324  0.4727152 ]]\n",
      "1920 0.444092 [[-5.14699459  0.65631658  0.47598302]]\n",
      "1940 0.443921 [[-5.16522408  0.65696788  0.47922045]]\n",
      "1960 0.443753 [[-5.18326759  0.65760756  0.48242784]]\n",
      "1980 0.443588 [[-5.20112944  0.65823597  0.4856061 ]]\n",
      "2000 0.443427 [[-5.21881199  0.65885335  0.48875552]]\n",
      "2020 0.443268 [[-5.23632097  0.65946013  0.49187687]]\n",
      "2040 0.443113 [[-5.25365734  0.66005647  0.49497029]]\n",
      "2060 0.442961 [[-5.27082634  0.66064268  0.49803653]]\n",
      "2080 0.442811 [[-5.28782892  0.66121888  0.50107592]]\n",
      "2100 0.442665 [[-5.30466938  0.66178548  0.50408888]]\n",
      "2120 0.442521 [[-5.32135057  0.66234261  0.50707608]]\n",
      "2140 0.44238 [[-5.33787489  0.66289061  0.51003754]]\n",
      "2160 0.442242 [[-5.35424566  0.66342956  0.51297408]]\n",
      "2180 0.442106 [[-5.3704648   0.6639598   0.51588577]]\n",
      "2200 0.441973 [[-5.38653517  0.6644814   0.51877308]]\n",
      "2220 0.441842 [[-5.40245962  0.66499466  0.52163655]]\n",
      "2240 0.441713 [[-5.41824055  0.66549975  0.52447647]]\n",
      "2260 0.441587 [[-5.43388128  0.66599685  0.52729326]]\n",
      "2280 0.441462 [[-5.44938278  0.66648614  0.53008723]]\n",
      "2300 0.44134 [[-5.46474791  0.66696775  0.53285885]]\n",
      "2320 0.441221 [[-5.47997952  0.66744196  0.53560823]]\n",
      "2340 0.441103 [[-5.49507904  0.66790897  0.53833592]]\n",
      "2360 0.440987 [[-5.51004839  0.6683687   0.54104203]]\n",
      "2380 0.440873 [[-5.5248909   0.66882145  0.54372722]]\n",
      "2400 0.440761 [[-5.53960752  0.66926742  0.54639149]]\n",
      "2420 0.440651 [[-5.55420065  0.66970676  0.54903525]]\n",
      "2440 0.440543 [[-5.56867313  0.67013961  0.55165893]]\n",
      "2460 0.440436 [[-5.58302593  0.67056602  0.55426282]]\n",
      "2480 0.440332 [[-5.59726048  0.67098629  0.55684686]]\n",
      "2500 0.440229 [[-5.61137962  0.67140031  0.5594117 ]]\n",
      "2520 0.440127 [[-5.62538433  0.67180836  0.56195754]]\n",
      "2540 0.440028 [[-5.63927698  0.67221051  0.56448454]]\n",
      "2560 0.439929 [[-5.65305901  0.67260706  0.566993  ]]\n",
      "2580 0.439833 [[-5.66673183  0.67299807  0.56948316]]\n",
      "2600 0.439738 [[-5.68029785  0.67338347  0.57195538]]\n",
      "2620 0.439644 [[-5.69375801  0.67376345  0.5744099 ]]\n",
      "2640 0.439552 [[-5.70711422  0.67413819  0.5768469 ]]\n",
      "2660 0.439461 [[-5.72036791  0.67450774  0.57926661]]\n",
      "2680 0.439372 [[-5.73352003  0.67487222  0.58166933]]\n",
      "2700 0.439283 [[-5.74657249  0.6752317   0.58405519]]\n",
      "2720 0.439197 [[-5.75952816  0.6755864   0.58642459]]\n",
      "2740 0.439111 [[-5.77238607  0.67593634  0.58877766]]\n",
      "2760 0.439027 [[-5.7851491   0.67628163  0.5911144 ]]\n",
      "2780 0.438944 [[-5.79781866  0.67662233  0.59343553]]\n",
      "2800 0.438862 [[-5.81039429  0.67695832  0.5957408 ]]\n",
      "2820 0.438782 [[-5.82287884  0.67729002  0.59803057]]\n",
      "2840 0.438702 [[-5.83527327  0.67761743  0.60030496]]\n",
      "2860 0.438624 [[-5.84757853  0.67794055  0.60256422]]\n",
      "2880 0.438547 [[-5.85979652  0.67825949  0.60480863]]\n",
      "2900 0.438471 [[-5.87192822  0.67857432  0.60703838]]\n",
      "2920 0.438396 [[-5.88397408  0.67888522  0.60925347]]\n",
      "2940 0.438322 [[-5.89593601  0.67919213  0.61145425]]\n",
      "2960 0.438249 [[-5.90781546  0.67949528  0.61364084]]\n",
      "2980 0.438177 [[-5.91961288  0.67979461  0.61581349]]\n",
      "3000 0.438106 [[-5.93132925  0.68009013  0.61797231]]\n"
     ]
    }
   ],
   "source": [
    "sess = tf.Session()\n",
    "sess.run(init)\n",
    "for step in xrange(3001):\n",
    "    sess.run(train, feed_dict={X: x_data, Y: y_data})\n",
    "    if step % 20 == 0:\n",
    "        print step, sess.run(cost, feed_dict={X: x_data, Y: y_data}), sess.run(W)"
   ]
  },
  {
   "cell_type": "code",
   "execution_count": 643,
   "metadata": {
    "collapsed": false
   },
   "outputs": [
    {
     "name": "stdout",
     "output_type": "stream",
     "text": [
      "-----------------------------------------\n",
      "[[False]]\n",
      "[[ True]]\n",
      "[[False False]]\n"
     ]
    }
   ],
   "source": [
    "print '-----------------------------------------'\n",
    "print sess.run(hypothesis, feed_dict={X: [[1], [2], [2]]}) > 0.5\n",
    "print sess.run(hypothesis, feed_dict={X: [[1], [5], [5]]}) > 0.5\n",
    "print sess.run(hypothesis, feed_dict={X: [[1, 1], [4, 0], [2, 10]]}) > 0.5"
   ]
  },
  {
   "cell_type": "code",
   "execution_count": 645,
   "metadata": {
    "collapsed": false
   },
   "outputs": [],
   "source": [
    "# def predict(theta, X):\n",
    "#     '''Predict whether the label\n",
    "#     is 0 or 1 using learned logistic\n",
    "#     regression parameters '''\n",
    "#     m, n = X.shape\n",
    "#     p = zeros(shape=(m, 1))\n",
    "\n",
    "#     h = sigmoid(X.dot(theta))\n",
    "\n",
    "#     for it in range(0, h.shape[0]):\n",
    "#         if h[it] > 0.5:\n",
    "#             p[it, 0] = 1\n",
    "#         else:\n",
    "#             p[it, 0] = 0\n",
    "\n",
    "#     return p\n",
    "\n",
    "# #Compute accuracy on our training set\n",
    "# p = predict(array(theta), X)\n",
    "# print 'Train Accuracy: %f' % ((y[where(p == y)].size / float(y.size)) * 100.0)"
   ]
  },
  {
   "cell_type": "markdown",
   "metadata": {},
   "source": [
    "# References\n",
    "- https://docs.scipy.org/doc/scipy-0.10.0/reference/tutorial/optimize.html\n",
    "- http://aimotion.blogspot.kr/2011/11/machine-learning-with-python-logistic.html\n",
    "- https://en.wikibooks.org/wiki/LaTeX/Mathematics\n",
    "- http://nbviewer.jupyter.org/github/jmportilla/Udemy---Machine-Learning/blob/master/Supervised%20Learning%20-%20Logistic%20Regression.ipynb"
   ]
  }
 ],
 "metadata": {
  "kernelspec": {
   "display_name": "Python 2",
   "language": "python",
   "name": "python2"
  },
  "language_info": {
   "codemirror_mode": {
    "name": "ipython",
    "version": 2
   },
   "file_extension": ".py",
   "mimetype": "text/x-python",
   "name": "python",
   "nbconvert_exporter": "python",
   "pygments_lexer": "ipython2",
   "version": "2.7.11"
  }
 },
 "nbformat": 4,
 "nbformat_minor": 0
}
