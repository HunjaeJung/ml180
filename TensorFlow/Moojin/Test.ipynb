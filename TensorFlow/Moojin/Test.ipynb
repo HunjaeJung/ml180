{
 "cells": [
  {
   "cell_type": "code",
   "execution_count": null,
   "metadata": {
    "collapsed": true
   },
   "outputs": [],
   "source": [
    "import tensorflow as tf\n",
    "import pandas as pd\n",
    "import numpy as np\n",
    "import matplotlib.pyplot as plt\n",
    "%matplotlib inline"
   ]
  },
  {
   "cell_type": "markdown",
   "metadata": {},
   "source": [
    "Loading data"
   ]
  },
  {
   "cell_type": "code",
   "execution_count": null,
   "metadata": {
    "collapsed": false
   },
   "outputs": [],
   "source": [
    "df = pd.read_csv('ex8data1_X.csv', names=['Latency', 'Throughput'])\n",
    "\n",
    "df_x_val = pd.read_csv('ex8data1_Xval.csv', names=['Latency', 'Throughput'])\n",
    "df_y_val = pd.read_csv('ex8data1_yval.csv', names=['IsOutlier'])"
   ]
  },
  {
   "cell_type": "code",
   "execution_count": null,
   "metadata": {
    "collapsed": false
   },
   "outputs": [],
   "source": [
    "df.plot(kind='scatter',x='Latency',y='Throughput')"
   ]
  },
  {
   "cell_type": "code",
   "execution_count": null,
   "metadata": {
    "collapsed": false
   },
   "outputs": [],
   "source": [
    "ds = tf.contrib.distributions\n",
    "sess = tf.Session()"
   ]
  },
  {
   "cell_type": "markdown",
   "metadata": {},
   "source": [
    "Generate normal distribution"
   ]
  },
  {
   "cell_type": "code",
   "execution_count": null,
   "metadata": {
    "collapsed": false
   },
   "outputs": [],
   "source": [
    "mvn = ds.MultivariateNormalDiag(\n",
    "    loc=[df.mean().Latency, df.mean().Throughput],\n",
    "    scale_diag=[df.std().Latency, df.std().Throughput])"
   ]
  },
  {
   "cell_type": "code",
   "execution_count": null,
   "metadata": {
    "collapsed": false
   },
   "outputs": [],
   "source": [
    "t_mean = mvn.mean()\n",
    "t_std = mvn.stddev()\n",
    "with sess.as_default():\n",
    "    print sess.run([t_mean, t_std])"
   ]
  },
  {
   "cell_type": "markdown",
   "metadata": {},
   "source": [
    "Calculate each data probability"
   ]
  },
  {
   "cell_type": "code",
   "execution_count": null,
   "metadata": {
    "collapsed": false
   },
   "outputs": [],
   "source": [
    "tv = tf.to_float(df.values, name='ToFloat')\n",
    "t_prob = mvn.prob(tv)\n",
    "\n",
    "tv_x_val = tf.to_float(df_x_val.values, name='ToFloat')\n",
    "t_prob_val = mvn.prob(tv_x_val)\n",
    "\n",
    "with sess.as_default():\n",
    "    sess.run([t_prob,t_prob_val])"
   ]
  },
  {
   "cell_type": "markdown",
   "metadata": {},
   "source": [
    "Convert to np array"
   ]
  },
  {
   "cell_type": "code",
   "execution_count": null,
   "metadata": {
    "collapsed": false
   },
   "outputs": [],
   "source": [
    "t_prob_val = tf.Print(t_prob_val, [t_prob_val])\n",
    "tv_y_val = tf.to_float(df_y_val.values, name='ToFloat')\n",
    "t_prob = tf.Print(t_prob, [t_prob])\n",
    "\n",
    "with sess.as_default():\n",
    "    prob = sess.run(t_prob)\n",
    "    prob_val = sess.run(t_prob_val)\n",
    "    y_val = sess.run(tv_y_val)\n",
    "y_val = y_val.flatten()"
   ]
  },
  {
   "cell_type": "code",
   "execution_count": null,
   "metadata": {
    "collapsed": false
   },
   "outputs": [],
   "source": [
    "x_max = np.max(prob_val)\n",
    "x_min = np.min(prob_val)\n",
    "x_max, x_min"
   ]
  },
  {
   "cell_type": "markdown",
   "metadata": {},
   "source": [
    "Pick the best epsilon"
   ]
  },
  {
   "cell_type": "code",
   "execution_count": null,
   "metadata": {
    "collapsed": false
   },
   "outputs": [],
   "source": [
    "best_epsilon = 0\n",
    "best_f1 = 0\n",
    "f1 = 0\n",
    "\n",
    "step = (x_max - x_min) / 1000\n",
    "for epsilon in np.arange(x_min, x_max, step):\n",
    "    preds = prob_val < epsilon\n",
    "    \n",
    "    tp = np.sum(np.logical_and(preds == 1, y_val == 1)).astype(float)\n",
    "    fp = np.sum(np.logical_and(preds == 1, y_val == 0)).astype(float)\n",
    "    fn = np.sum(np.logical_and(preds == 0, y_val == 1)).astype(float)\n",
    "        \n",
    "    precision = tp / (tp + fp)\n",
    "    recall = tp / (tp + fn)\n",
    "    f1 = (2 * precision * recall) / (precision + recall)\n",
    "\n",
    "    if f1 > best_f1:\n",
    "        best_f1 = f1\n",
    "        best_epsilon = epsilon\n",
    "best_epsilon, best_f1, f1"
   ]
  },
  {
   "cell_type": "markdown",
   "metadata": {},
   "source": [
    "Determime whether it is outlier or not"
   ]
  },
  {
   "cell_type": "code",
   "execution_count": null,
   "metadata": {
    "collapsed": false
   },
   "outputs": [],
   "source": [
    "outliers = np.where(prob_val < best_epsilon)"
   ]
  },
  {
   "cell_type": "markdown",
   "metadata": {},
   "source": [
    "Add outlier column at dataframe"
   ]
  },
  {
   "cell_type": "code",
   "execution_count": null,
   "metadata": {
    "collapsed": false
   },
   "outputs": [],
   "source": [
    "df['IsOutlier'] = False\n",
    "for outlier in outliers[0]:\n",
    "    df.iloc[outlier, df.columns.get_loc('IsOutlier')] = True\n",
    "df.loc[df['IsOutlier'] == True]"
   ]
  },
  {
   "cell_type": "code",
   "execution_count": null,
   "metadata": {
    "collapsed": false
   },
   "outputs": [],
   "source": [
    "ax = df.loc[df['IsOutlier'] == True].plot(\n",
    "    kind='scatter',x='Latency',y='Throughput',color='Red',label='Outlier')\n",
    "df.loc[df['IsOutlier'] == False].plot(\n",
    "    kind='scatter',x='Latency',y='Throughput',color='Green',label='Normal',ax=ax)"
   ]
  },
  {
   "cell_type": "code",
   "execution_count": null,
   "metadata": {
    "collapsed": true
   },
   "outputs": [],
   "source": []
  }
 ],
 "metadata": {
  "kernelspec": {
   "display_name": "Python 2",
   "language": "python",
   "name": "python2"
  },
  "language_info": {
   "codemirror_mode": {
    "name": "ipython",
    "version": 2
   },
   "file_extension": ".py",
   "mimetype": "text/x-python",
   "name": "python",
   "nbconvert_exporter": "python",
   "pygments_lexer": "ipython2",
   "version": "2.7.13"
  }
 },
 "nbformat": 4,
 "nbformat_minor": 0
}
